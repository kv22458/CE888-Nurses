{
 "cells": [
  {
   "cell_type": "code",
   "execution_count": 7,
   "metadata": {},
   "outputs": [],
   "source": [
    "import pandas as pd\n",
    "import numpy as np\n",
    "from sklearn.model_selection import train_test_split, cross_val_score\n",
    "from sklearn.preprocessing import StandardScaler\n",
    "from sklearn.linear_model import LogisticRegression\n",
    "from sklearn.ensemble import RandomForestClassifier\n",
    "from sklearn.neighbors import KNeighborsClassifier\n",
    "from sklearn.svm import SVC\n",
    "from sklearn.metrics import recall_score\n",
    "import matplotlib.pyplot as plt"
   ]
  },
  {
   "cell_type": "code",
   "execution_count": 8,
   "metadata": {},
   "outputs": [],
   "source": [
    "df = pd.read_csv('output//final_data_labeled.csv')\n",
    "\n",
    "# Select features and target variable\n",
    "features = ['magnitude', 'EDA', 'HR']\n",
    "target = 'label'\n",
    "\n",
    "X = df[features]\n",
    "y = df[target]"
   ]
  },
  {
   "cell_type": "code",
   "execution_count": 9,
   "metadata": {},
   "outputs": [],
   "source": [
    "# Split the data into train and test sets\n",
    "X_train, X_test, y_train, y_test = train_test_split(X, y, test_size=0.4, random_state=42)\n",
    "\n",
    "# Standardize the features\n",
    "scaler = StandardScaler()\n",
    "X_train_scaled = scaler.fit_transform(X_train)\n",
    "X_test_scaled = scaler.transform(X_test)"
   ]
  },
  {
   "cell_type": "code",
   "execution_count": 10,
   "metadata": {},
   "outputs": [],
   "source": [
    "# Defining the classifiers for comparing accuracy over popular algorithms\n",
    "classifiers = {\n",
    "    'Logistic Regression': LogisticRegression(random_state=42),\n",
    "    'Random Forest': RandomForestClassifier(random_state=42),\n",
    "    'k-NN': KNeighborsClassifier(),\n",
    "    'SVM': SVC(random_state=42)\n",
    "}"
   ]
  },
  {
   "cell_type": "code",
   "execution_count": 11,
   "metadata": {},
   "outputs": [
    {
     "name": "stdout",
     "output_type": "stream",
     "text": [
      "Logistic Regression cross-validation recall_macro scores: [0.62999235 0.62770042 0.63243979 0.63224544 0.63185304]\n",
      "Logistic Regression mean cross-validation recall_macro score: 0.6308462083723889\n",
      "Logistic Regression recall_macro score: 0.6298164447108411\n",
      "\n",
      "Random Forest cross-validation recall_macro scores: [0.99826543 0.99825198 0.99855345 0.99828835 0.99810114]\n",
      "Random Forest mean cross-validation recall_macro score: 0.9982920708285249\n",
      "Random Forest recall_macro score: 0.9986268016933387\n",
      "\n",
      "k-NN cross-validation recall_macro scores: [0.9743206  0.97402119 0.97401531 0.97382233 0.97326775]\n",
      "k-NN mean cross-validation recall_macro score: 0.9738894366481397\n",
      "k-NN recall_macro score: 0.9775679005659385\n",
      "\n",
      "SVM cross-validation recall_macro scores: [0.81542301 0.8133021  0.81548722 0.81484511 0.81398402]\n",
      "SVM mean cross-validation recall_macro score: 0.8146082926377052\n",
      "SVM recall_macro score: 0.8154238948119049\n",
      "\n"
     ]
    }
   ],
   "source": [
    "# Train and evaluate each classifier\n",
    " \n",
    "for name, clf in classifiers.items():\n",
    "    # Evaluate the model using cross-validation\n",
    "    cv_scores = cross_val_score(clf, X_train_scaled, y_train, cv=5, scoring='recall_macro')\n",
    "    print(f\"{name} cross-validation recall_macro scores: {cv_scores}\")\n",
    "    print(f\"{name} mean cross-validation recall_macro score: {np.mean(cv_scores)}\")\n",
    "\n",
    "    # Train the model on the training data\n",
    "    clf.fit(X_train_scaled, y_train)\n",
    "    svmclf = clf\n",
    "    # Predict the labels for the test data\n",
    "    y_pred = clf.predict(X_test_scaled)\n",
    "\n",
    "    # Calculate recall score\n",
    "    recall = recall_score(y_test, y_pred, average='macro')\n",
    "    print(f\"{name} recall_macro score: {recall}\\n\")"
   ]
  },
  {
   "attachments": {},
   "cell_type": "markdown",
   "metadata": {},
   "source": [
    "F1 Scores of Models from below function\n",
    "F1-score = 2 * (precision * recall_value) / (precision + recall_value)"
   ]
  },
  {
   "cell_type": "code",
   "execution_count": 1,
   "metadata": {},
   "outputs": [],
   "source": [
    "def f1_score(precision, recall):\n",
    "    return 2 * (precision * recall) / (precision + recall)"
   ]
  },
  {
   "cell_type": "code",
   "execution_count": 3,
   "metadata": {},
   "outputs": [
    {
     "name": "stdout",
     "output_type": "stream",
     "text": [
      "Logistic Regression F1-score: 0.6303309059639147\n",
      "Random Forest F1-score: 0.9984594082065242\n",
      "k-NN F1-score: 0.9757252016860523\n",
      "SVM F1-score: 0.815015889677636\n"
     ]
    },
    {
     "ename": "",
     "evalue": "",
     "output_type": "error",
     "traceback": [
      "\u001b[1;31mThe Kernel crashed while executing code in the the current cell or a previous cell. Please review the code in the cell(s) to identify a possible cause of the failure. Click <a href='https://aka.ms/vscodeJupyterKernelCrash'>here</a> for more info. View Jupyter <a href='command:jupyter.viewOutput'>log</a> for further details."
     ]
    }
   ],
   "source": [
    "logistic_regression_precision = 0.6308462083723889\n",
    "logistic_regression_recall = 0.6298164447108411\n",
    "logistic_regression_f1 = f1_score(logistic_regression_precision, logistic_regression_recall)\n",
    "\n",
    "random_forest_precision = 0.9982920708285249\n",
    "random_forest_recall = 0.9986268016933387\n",
    "random_forest_f1 = f1_score(random_forest_precision, random_forest_recall)\n",
    "\n",
    "knn_precision = 0.9738894366481397\n",
    "knn_recall = 0.9775679005659385\n",
    "knn_f1 = f1_score(knn_precision, knn_recall)\n",
    "\n",
    "svm_precision = 0.8146082926377052\n",
    "svm_recall = 0.8154238948119049\n",
    "svm_f1 = f1_score(svm_precision, svm_recall)\n",
    "\n",
    "print(\"Logistic Regression F1-score:\", logistic_regression_f1)\n",
    "print(\"Random Forest F1-score:\", random_forest_f1)\n",
    "print(\"k-NN F1-score:\", knn_f1)\n",
    "print(\"SVM F1-score:\", svm_f1)"
   ]
  }
 ],
 "metadata": {
  "kernelspec": {
   "display_name": "Python 3",
   "language": "python",
   "name": "python3"
  },
  "language_info": {
   "codemirror_mode": {
    "name": "ipython",
    "version": 3
   },
   "file_extension": ".py",
   "mimetype": "text/x-python",
   "name": "python",
   "nbconvert_exporter": "python",
   "pygments_lexer": "ipython3",
   "version": "3.10.11"
  },
  "orig_nbformat": 4
 },
 "nbformat": 4,
 "nbformat_minor": 2
}
