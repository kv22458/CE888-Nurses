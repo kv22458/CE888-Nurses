{
 "cells": [
  {
   "cell_type": "code",
   "execution_count": 1,
   "metadata": {},
   "outputs": [],
   "source": [
    "import pandas as pd\n",
    "import numpy as np\n",
    "\n",
    "# Load your dataset\n",
    "input_file = 'output//merged_data_labeled.csv'\n",
    "output_file = 'final_data_labeled.csv'\n",
    "\n",
    "df = pd.read_csv(input_file)\n",
    "\n",
    "# Compute the magnitude of the accelerometer data\n",
    "df['magnitude'] = np.sqrt(df['X']**2 + df['Y']**2 + df['Z']**2)\n",
    "\n",
    "# Drop the original X, Y, Z columns\n",
    "df = df.drop(columns=['X', 'Y', 'Z'])\n",
    "\n",
    "# Save the modified dataset to a new file\n",
    "df.to_csv(output_file, index=False)"
   ]
  }
 ],
 "metadata": {
  "kernelspec": {
   "display_name": "Python 3",
   "language": "python",
   "name": "python3"
  },
  "language_info": {
   "codemirror_mode": {
    "name": "ipython",
    "version": 3
   },
   "file_extension": ".py",
   "mimetype": "text/x-python",
   "name": "python",
   "nbconvert_exporter": "python",
   "pygments_lexer": "ipython3",
   "version": "3.10.11"
  },
  "orig_nbformat": 4
 },
 "nbformat": 4,
 "nbformat_minor": 2
}
