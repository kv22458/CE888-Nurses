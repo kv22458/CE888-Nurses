{
 "cells": [
  {
   "cell_type": "code",
   "execution_count": 1,
   "metadata": {},
   "outputs": [],
   "source": [
    "import pandas as pd\n",
    "\n",
    "# read the CSV file into a pandas dataframe\n",
    "df = pd.read_csv('output//final_data_labeled.csv')\n",
    "\n",
    "# convert the datetime column to a datetime object\n",
    "df['datetime'] = pd.to_datetime(df['datetime'])\n",
    "\n",
    "# extract the date from the datetime column and create a new column called 'date'\n",
    "df['date'] = df['datetime'].dt.date\n",
    "\n",
    "# write the updated dataframe to a new CSV file\n",
    "df.to_csv('final_labeled_allfix.csv', index=False)"
   ]
  }
 ],
 "metadata": {
  "kernelspec": {
   "display_name": "Python 3",
   "language": "python",
   "name": "python3"
  },
  "language_info": {
   "codemirror_mode": {
    "name": "ipython",
    "version": 3
   },
   "file_extension": ".py",
   "mimetype": "text/x-python",
   "name": "python",
   "nbconvert_exporter": "python",
   "pygments_lexer": "ipython3",
   "version": "3.10.11"
  },
  "orig_nbformat": 4
 },
 "nbformat": 4,
 "nbformat_minor": 2
}
